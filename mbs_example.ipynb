{
 "cells": [
  {
   "cell_type": "markdown",
   "metadata": {},
   "source": [
    "# Installation\n",
    "\n",
    "To install, download the mbs module from PyPI via 'pip install mbs' (available soon). Alternatively, you can also try 'pip install git+https://github.com/mueslo/mbs.git'"
   ]
  },
  {
   "cell_type": "code",
   "execution_count": 1,
   "metadata": {},
   "outputs": [],
   "source": [
    "import mbs"
   ]
  },
  {
   "cell_type": "markdown",
   "metadata": {},
   "source": [
    "To load a single Spectrum given a filename (works for both krx and txt files):"
   ]
  },
  {
   "cell_type": "code",
   "execution_count": 6,
   "metadata": {},
   "outputs": [],
   "source": [
    "spec = mbs.Spectrum.from_filename(\"Z:\\\\A1#7\\\\DATA\\\\20190423\\\\190423-MBS-00232_00043.txt\")"
   ]
  },
  {
   "cell_type": "markdown",
   "metadata": {},
   "source": [
    "If use jupyter, you can get widget of the spectrum by just having the last output of the cell be the spectrum (or running 'display(\\<s\\>)', where \\<s\\> is your Spectrum object). This works both for the standard inline matplotlib backend, as well as for the interactive ipympl backend for full interactivity.\n",
    "\n",
    "<i>work in progress</i>"
   ]
  },
  {
   "cell_type": "code",
   "execution_count": 5,
   "metadata": {},
   "outputs": [
    {
     "data": {
      "application/vnd.jupyter.widget-view+json": {
       "model_id": "0fc6b754009640ffab05bb16b744efd7",
       "version_major": 2,
       "version_minor": 0
      },
      "text/plain": [
       "VBox(children=(HTML(value='<h4>190423-MBS-00232_00043.txt</h4>'), Tab(children=(VBox(children=(Dropdown(descri…"
      ]
     },
     "metadata": {},
     "output_type": "display_data"
    }
   ],
   "source": [
    "spec"
   ]
  },
  {
   "cell_type": "markdown",
   "metadata": {},
   "source": [
    "The MBS header can be found in the metadata attribute of the spectrum, while the spectrum itself is found in the 'data' attribute of the Spectrum"
   ]
  },
  {
   "cell_type": "code",
   "execution_count": 7,
   "metadata": {},
   "outputs": [
    {
     "data": {
      "text/plain": [
       "OrderedDict([('Frames Per Step', 600),\n",
       "             ('No. Steps', 850),\n",
       "             ('Pass Energy', 'PE200'),\n",
       "             ('Lens Mode', 'L4Ang1d6'),\n",
       "             ('No Scans', 0),\n",
       "             ('RegNo', 43),\n",
       "             ('TotSteps', 1645),\n",
       "             ('AddFMS', 6),\n",
       "             ('ActScans', 2),\n",
       "             ('DithSteps', 0),\n",
       "             ('Start K.E.', 645.0),\n",
       "             ('Step Size', 0.02),\n",
       "             ('End K.E.', 662.0),\n",
       "             ('SpinOffs', 0.0),\n",
       "             ('Width', 17.0),\n",
       "             ('Center K.E.', 653.5),\n",
       "             ('FirstEnergy', 637.1810113),\n",
       "             ('DeflX', 1.4),\n",
       "             ('DeflY', 0.0),\n",
       "             ('Dbl10', 0.0),\n",
       "             ('AcqMode', 'Swept'),\n",
       "             ('Number Name', True),\n",
       "             ('Local Detector', False),\n",
       "             ('XTAB ON', True),\n",
       "             ('Spin', False),\n",
       "             ('SX', 170),\n",
       "             ('EX', 1110),\n",
       "             ('SY', 129),\n",
       "             ('NoS', 762),\n",
       "             ('EndY', 890),\n",
       "             ('Discr', 4),\n",
       "             ('ADCMask', 4),\n",
       "             ('PCntType', 2),\n",
       "             ('PcMask', 9),\n",
       "             ('SoftBinX', 1),\n",
       "             ('SoftBinY', 1),\n",
       "             ('ADCOffset', 0),\n",
       "             ('ADCMode', 0),\n",
       "             ('ORadON?', 1),\n",
       "             ('PCntON?', 0),\n",
       "             ('RegName', 'ARPES'),\n",
       "             ('NameString', '190423-MBS-'),\n",
       "             ('Rel. Path', 'DATA\\\\A1#7\\\\DATA\\\\20190423'),\n",
       "             ('Gen. Name', '190423-MBS-00232_00043.txt'),\n",
       "             ('STim', datetime.datetime(2019, 5, 8, 0, 18)),\n",
       "             ('TIMESTAMP:', datetime.datetime(2019, 5, 8, 1, 12)),\n",
       "             ('MBS A1Soft', 'LV 2016 Ver.16.0'),\n",
       "             ('YScaleMult', 0.0),\n",
       "             ('YScaleMax', 0.0),\n",
       "             ('YScaleMin', 0.0),\n",
       "             ('YScaleName', 'X Angle(Degrees)'),\n",
       "             ('XScaleMult', 0.0215517),\n",
       "             ('XScaleMax', 8.125),\n",
       "             ('XScaleMin', -8.2758621),\n",
       "             ('XScaleName', 'Y Angle(Degrees)')])"
      ]
     },
     "execution_count": 7,
     "metadata": {},
     "output_type": "execute_result"
    }
   ],
   "source": [
    "spec.metadata"
   ]
  },
  {
   "cell_type": "code",
   "execution_count": 8,
   "metadata": {},
   "outputs": [
    {
     "data": {
      "text/plain": [
       "array([[0, 0, 0, ..., 0, 0, 0],\n",
       "       [0, 0, 0, ..., 0, 0, 0],\n",
       "       [0, 0, 0, ..., 0, 0, 0],\n",
       "       ...,\n",
       "       [0, 0, 0, ..., 0, 0, 0],\n",
       "       [0, 0, 0, ..., 0, 0, 0],\n",
       "       [0, 0, 0, ..., 0, 0, 0]], dtype=uint32)"
      ]
     },
     "execution_count": 8,
     "metadata": {},
     "output_type": "execute_result"
    }
   ],
   "source": [
    "spec.data"
   ]
  },
  {
   "cell_type": "markdown",
   "metadata": {},
   "source": [
    "There are slicing operators available also, which use the energy and lens axis respectively so to for example select only the subspectrum from 656 to 661eV and -4 to +1 deg:"
   ]
  },
  {
   "cell_type": "code",
   "execution_count": 12,
   "metadata": {},
   "outputs": [
    {
     "data": {
      "application/vnd.jupyter.widget-view+json": {
       "model_id": "ac1eb57d821e4384bcf821e4147d9515",
       "version_major": 2,
       "version_minor": 0
      },
      "text/plain": [
       "VBox(children=(HTML(value='<h4>190423-MBS-00232_00043.txt</h4>'), Tab(children=(VBox(children=(Dropdown(descri…"
      ]
     },
     "metadata": {},
     "output_type": "display_data"
    }
   ],
   "source": [
    "spec[656:661, -4:1]"
   ]
  },
  {
   "cell_type": "code",
   "execution_count": null,
   "metadata": {},
   "outputs": [],
   "source": []
  }
 ],
 "metadata": {
  "interpreter": {
   "hash": "dba4f83a6b0aead0ecb0322dd9e7472375337a2b3acb89772459e4217fbcb911"
  },
  "kernelspec": {
   "display_name": "Python 3.7.1 64-bit",
   "language": "python",
   "name": "python3"
  },
  "language_info": {
   "codemirror_mode": {
    "name": "ipython",
    "version": 3
   },
   "file_extension": ".py",
   "mimetype": "text/x-python",
   "name": "python",
   "nbconvert_exporter": "python",
   "pygments_lexer": "ipython3",
   "version": "3.7.1"
  }
 },
 "nbformat": 4,
 "nbformat_minor": 2
}
